{
 "cells": [
  {
   "cell_type": "markdown",
   "metadata": {},
   "source": [
    "# Arredondo Pérez Leonardo\n",
    "## Estadísctica III"
   ]
  },
  {
   "cell_type": "markdown",
   "metadata": {},
   "source": [
    "# Ejercicio 1\n",
    "\n",
    "1. El método más utilizado para estimar los parámetros de una serie de tiempo es llamado \"Método de Máxima\n",
    "Verosimilitud\", el cual consiste en maximizar la función de log-verosimilitud correspondiente a una muestra\n",
    "aleatoria. Como ejemplo, tomemos un proceso AR(1). Asumiendo una distribución Gaussiana para el ruido\n",
    "blanco:\n",
    "\n",
    "**Dem**\n",
    "\n",
    "Sea $$X_{t}=\\phi X_{t-1}+Z_{t}$$ \n",
    "$$ X_{t}|{X_{t-1}}_{\\tilde{}}N(\\phi X_{t-1},\\sigma^2)$$\n",
    "$$f(x_{0},x_{1},...,x_{t}|\\phi)=f(x_{t}|x_{t-1},...,x_{0})f(x_{t-1}|x_{t-2},...,x_{0}) $$\n",
    "$$=\\prod_{i=1}^{n}f_{\\phi}(x_{t}|x_{t-1},...,x_{0})f_{\\phi}x_{0}$$\n",
    "$$ =\\frac{e^\\frac{-(X_{t}-\\phi X_{t-1})^2}{2 \\sigma^2}}{\\sqrt{2\\pi\\sigma^2}}$$\n",
    "$$L(\\tilde{\\phi})=\\sum_{t=1}^{n}ln(\\frac{e^\\frac{-(X_{t}-\\phi X_{t-1})^2}{2 \\sigma^2}}{\\sqrt{2\\pi\\sigma^2}})$$\n",
    "\n",
    "$$=-\\frac{-(X_{t}-\\phi X_{t-1})^2}{2 \\sigma^2}ln(e)-ln(\\sqrt{2\\pi\\sigma^2})$$\n",
    "$$=-\\frac{-(X_{t}-\\phi X_{t-1})^2}{2 \\sigma^2}-ln(\\sqrt{2\\pi\\sigma^2}) $$\n",
    "$$\\frac{\\partial L(\\theta) }{\\partial(\\phi}=\\frac{-(X_{t}-\\phi X_{t-1})X_{t-1}}{\\sigma^2} $$\n",
    "\n",
    "$$\\frac{\\partial L(\\theta) }{\\partial(\\phi}=\\frac{-(X_{t}-\\phi X_{t-1})X_{t-1}}{\\sigma^2}=0$$\n",
    "$$->\\phi=\\frac{\\sum_{t=1}^{n}X_{t}}{X_{t-1}}  , \\sigma^2=0$$\n"
   ]
  },
  {
   "cell_type": "markdown",
   "metadata": {},
   "source": [
    "2. Uno de los indicadores más utilizados para determinar si el modelo utilizado en una serie de tiempo es el criterio\n",
    "de información de Akaike (Akaike Information Criterion). Investigue en qué consiste dicho indicador y de una\n",
    "breve explicación al respecto.\n",
    "\n",
    "Es una medida estadística para la evaluación comparativa entre modelos de series temporales, el AIC  no realiza una prueba de hipótesis,indicará el modelo que se ajusta un poco mejor a los datos u observaciones disponibles que los otros.AIC proporciona una estimación de la información perdida cuando se utiliza un modelo específico para representar el proceso que generó los datos\n",
    "\n",
    "$AIC=2\\frac{k-l}{n}$\n",
    "\n",
    "donde:\n",
    "\n",
    "n es el número de observarciones\n",
    "\n",
    "k el número de parametros a estimar\n",
    "\n",
    "l la función  logsimilitud del nuestro estimador\n"
   ]
  },
  {
   "cell_type": "markdown",
   "metadata": {},
   "source": [
    "3.- En clase vimos que un método muy utilizado para determinar el orden de una serie de tiemp (es decir, si el\n",
    "proceso es AR(1), AR(2), etc...), era calculando la ACF y la PACF de la serie de tiempo. No obstante, existe\n",
    "una alternativa que es encontrar el orden lat que el criterio de AIC se maximice. Implemente una función tal que\n",
    "para un orden máximo dado, la función busque sobre todos los órdenes menores a este valor máximo y seleccione\n",
    "el orden con un criterio de AIC máximo."
   ]
  },
  {
   "cell_type": "code",
   "execution_count": 1,
   "metadata": {},
   "outputs": [
    {
     "data": {
      "text/html": [
       "<div>\n",
       "<style scoped>\n",
       "    .dataframe tbody tr th:only-of-type {\n",
       "        vertical-align: middle;\n",
       "    }\n",
       "\n",
       "    .dataframe tbody tr th {\n",
       "        vertical-align: top;\n",
       "    }\n",
       "\n",
       "    .dataframe thead th {\n",
       "        text-align: right;\n",
       "    }\n",
       "</style>\n",
       "<table border=\"1\" class=\"dataframe\">\n",
       "  <thead>\n",
       "    <tr style=\"text-align: right;\">\n",
       "      <th></th>\n",
       "      <th>Date</th>\n",
       "      <th>GDP</th>\n",
       "    </tr>\n",
       "  </thead>\n",
       "  <tbody>\n",
       "    <tr>\n",
       "      <th>0</th>\n",
       "      <td>01/01/47</td>\n",
       "      <td>237.2</td>\n",
       "    </tr>\n",
       "    <tr>\n",
       "      <th>1</th>\n",
       "      <td>04/01/47</td>\n",
       "      <td>240.5</td>\n",
       "    </tr>\n",
       "    <tr>\n",
       "      <th>2</th>\n",
       "      <td>07/01/47</td>\n",
       "      <td>244.6</td>\n",
       "    </tr>\n",
       "    <tr>\n",
       "      <th>3</th>\n",
       "      <td>10/01/47</td>\n",
       "      <td>254.4</td>\n",
       "    </tr>\n",
       "    <tr>\n",
       "      <th>4</th>\n",
       "      <td>01/01/48</td>\n",
       "      <td>260.4</td>\n",
       "    </tr>\n",
       "  </tbody>\n",
       "</table>\n",
       "</div>"
      ],
      "text/plain": [
       "       Date    GDP\n",
       "0  01/01/47  237.2\n",
       "1  04/01/47  240.5\n",
       "2  07/01/47  244.6\n",
       "3  10/01/47  254.4\n",
       "4  01/01/48  260.4"
      ]
     },
     "execution_count": 1,
     "metadata": {},
     "output_type": "execute_result"
    }
   ],
   "source": [
    "import pandas as pd\n",
    "import numpy as np\n",
    "PIB_EUA=pd.read_csv('Data_tarea_30_abril.csv');PIB_EUA.head()"
   ]
  },
  {
   "cell_type": "code",
   "execution_count": 2,
   "metadata": {},
   "outputs": [
    {
     "data": {
      "text/plain": [
       "29"
      ]
     },
     "execution_count": 2,
     "metadata": {},
     "output_type": "execute_result"
    }
   ],
   "source": [
    "import math as mt\n",
    "def AIC(k,Serie=PIB_EUA.GDP,fi=0.5):\n",
    "    n=len(Serie)\n",
    "    sigma=Serie.var()\n",
    "    l=sum(-mt.log10(mt.sqrt(sigma*mt.pi))-(Serie[i]-fi*Serie[i-1])**2/(2*sigma) for i in range(1,n))\n",
    "    return 2*(k-l)/n \n",
    "def MAX_AIC(n):\n",
    "    lista= [AIC(i) for i in range(n)];return lista.index(max(lista))\n",
    "#     return lista\n",
    "MAX_AIC(30)"
   ]
  },
  {
   "cell_type": "markdown",
   "metadata": {},
   "source": [
    "4.- Implemente una función en Python que calcule la función de autocorrelación parcial para una serie de tiempo\n",
    "dada."
   ]
  },
  {
   "cell_type": "code",
   "execution_count": 3,
   "metadata": {},
   "outputs": [],
   "source": [
    "def ACF(h,Serie=PIB_EUA.GDP):\n",
    "    vec_acf = []\n",
    "    n=len(Serie[:len(Serie)-h+1])\n",
    "    mean=Serie.mean()\n",
    "    for i in range(n-1):\n",
    "        vec_acf.append((Serie[i]-mean)*(Serie[i+h]-mean))\n",
    "    return 1 if h==0 else np.array(vec_acf).sum()/((len(Serie)-h)*np.array(Serie).var())\n",
    "def PACF(k,Serie=PIB_EUA.GDP): \n",
    "    PACFS=[ACF(0),ACF(1),(ACF(2)-ACF(1)**2)/(1-ACF(1)**2)]\n",
    "    PACFS2=[]\n",
    "    def condin2(tupla): \n",
    "        if tupla[0] is tupla[1]:\n",
    "                return PACFS[tupla[0]]\n",
    "        return  PACFS2[PACFS2.index(str(tupla[0])+str(tupla[1]))+1]\n",
    "    def condin(tupla): \n",
    "        if tupla[0] is tupla[1]:\n",
    "            return PACFS[tupla[0]]  \n",
    "        return condin2((tupla[0]-1,tupla[1]))-PACFS[tupla[0]]*condin2((tupla[0]-1,tupla[0]-tupla[1]))\n",
    "    while len(PACFS)<k+1:\n",
    "        t=len(PACFS)\n",
    "        for i in range(1,t):\n",
    "            if t-1!=i:\n",
    "                PACFS2+=[str(t-1)+str(i),condin((t-1,i))]\n",
    "        ACFS=[ACF(e) for e in range(1,t)]\n",
    "        LAGS=[condin2((t-1,l)) for l in range(1,t)]\n",
    "        PACFS+=[(ACF(t)-sum([lag*ACFS[x] for lag,x in zip(LAGS,range(len(ACFS)-1,-1,-1))]))\n",
    "                /(1-sum([LAG*acf for LAG,acf in zip(LAGS,ACFS)]))]\n",
    "    return PACFS"
   ]
  },
  {
   "cell_type": "markdown",
   "metadata": {},
   "source": [
    "6. Investiguen en qué consiste la gráca de Cuantil-Cuantil ó QQ-plot.\n",
    " * 6.1 Realice un análisis exploratorio de los datos. La serie de tiempo es estacionaria? Qué alternativas propone\n",
    "para \"quitarle\" la tendencia a la serie de tiempo?\n",
    " * 6.2 Calcule la ACF y la PACF del proceso estacionario utilizando tanto las librerías de Python como sus\n",
    "funciones implementadas.Qué pueden decir sobre los grácos observados?\n",
    " * 6.3 Ajuste un modelo, ya sea AR o MA utilizando las librerías de Python. Para determinar el órden de los\n",
    "modelos, utilice tanto el criterio de ACF y PACF como el criterio mencionado en la pregunta 3.\n",
    " * 6.4 Haga un análisis de los resultados del modelo que eligieron. Es buen modelo? Qué pueden decir sobre la\n",
    "signicancia de los parámetros del modelo?\n",
    " * 6.5 Hagan un análisis de los residuales resultantes del modelo? Cómo se distribuyen? Qué dice la QQ-Plot al\n",
    "respecto?\n",
    " * 6.6 A partir de su modelo, pueden realizar un pronóstico de la serie de tiempo utilizando la función \"forecast\"\n",
    "contenida en la paquetería \"statsmodels\" en Python. Investiguen el funcionamiento de dicha función y\n",
    "hagan un pronóstico de 5 trimestres adelante. Qué opinan de los resultados?"
   ]
  },
  {
   "cell_type": "markdown",
   "metadata": {},
   "source": [
    "###  6.1"
   ]
  },
  {
   "cell_type": "code",
   "execution_count": 4,
   "metadata": {},
   "outputs": [],
   "source": [
    "PIB_EUA.GDP.plot(); \n",
    "#la serie de tiempo es estacionaria, para poderle quitar la tendencia sumandole un modelo AR(1) o MA(1)"
   ]
  },
  {
   "cell_type": "markdown",
   "metadata": {},
   "source": [
    "### 6.2"
   ]
  },
  {
   "cell_type": "code",
   "execution_count": 5,
   "metadata": {},
   "outputs": [
    {
     "data": {
      "text/plain": [
       "[1,\n",
       " 0.9677810851105767,\n",
       " 0.9352537640958861,\n",
       " 0.9020341564413299,\n",
       " 0.8701394084846709,\n",
       " 0.838404702255217,\n",
       " 0.8068119974224109,\n",
       " 0.7765405220986751,\n",
       " 0.7476368761785268,\n",
       " 0.7178826938377194,\n",
       " 0.6872203513656407,\n",
       " 0.6545290192136148,\n",
       " 0.6204698607696659,\n",
       " 0.5865283670096212,\n",
       " 0.5528220192115407,\n",
       " 0.5193494073582329,\n",
       " 0.48786662650962026,\n",
       " 0.45863918088037986,\n",
       " 0.43027699142982806,\n",
       " 0.4019781865663798,\n",
       " 0.37500657158423994,\n",
       " 0.34686433626799473,\n",
       " 0.3186387419910118,\n",
       " 0.2904152345052204,\n",
       " 0.2640880817473975,\n",
       " 0.2379430349151542,\n",
       " 0.21220603234913224,\n",
       " 0.18555049500394422,\n",
       " 0.1575935145370461,\n",
       " 0.12773345556175875,\n",
       " 0.09689057820380344,\n",
       " 0.06561439492889727,\n",
       " 0.0357716649005139,\n",
       " 0.007855251802838858,\n",
       " -0.01930359766239363,\n",
       " -0.04547305534076465,\n",
       " -0.07232968588522042,\n",
       " -0.10272648510340487,\n",
       " -0.13441474169006595,\n",
       " -0.16827216275357096,\n",
       " -0.200372621574249,\n",
       " -0.23283713992364355,\n",
       " -0.2674476226993781,\n",
       " -0.30088096428606315,\n",
       " -0.3354779412092146,\n",
       " -0.3709245041059471,\n",
       " -0.4052996382982091,\n",
       " -0.43948158669001114,\n",
       " -0.47656279844084376,\n",
       " -0.5165226747773887]"
      ]
     },
     "metadata": {},
     "output_type": "display_data"
    },
    {
     "data": {
      "text/plain": [
       "[1,\n",
       " 0.9677810851105767,\n",
       " -0.02123768862668782,\n",
       " -0.02770958201668328,\n",
       " 0.0035534599377233353,\n",
       " -0.014609887351914213,\n",
       " -0.01549640440016749,\n",
       " 0.0037299834855429965,\n",
       " 0.004389865139584728,\n",
       " -0.030646047506216738,\n",
       " -0.031218274267505473,\n",
       " -0.04888878696825783,\n",
       " -0.04123237344933027,\n",
       " -0.018419372934228136,\n",
       " -0.017664697861346532,\n",
       " -0.019176658458794214,\n",
       " 0.00830348130354924,\n",
       " 0.012818859374038111,\n",
       " -0.00901740848466248,\n",
       " -0.01848078516839884,\n",
       " 0.0035217107096971513,\n",
       " -0.036358734330777825,\n",
       " -0.020152571477870956,\n",
       " -0.017367292715486853,\n",
       " 0.008463927974528097,\n",
       " -0.01983767007499138,\n",
       " -0.017654839826211955,\n",
       " -0.03864415044808973,\n",
       " -0.04699278514588607,\n",
       " -0.054734428305009804,\n",
       " -0.04187937222749906,\n",
       " -0.033090372602757434,\n",
       " -0.0048018443734882815,\n",
       " 0.002287815049601804,\n",
       " -0.01909138473884077,\n",
       " -0.013576421938070677,\n",
       " -0.0387441191284532,\n",
       " -0.0860239280255959,\n",
       " -0.05081105462022549,\n",
       " -0.06349098803745663,\n",
       " -0.008459352082956268,\n",
       " -0.04315634072414607,\n",
       " -0.08023724583688464,\n",
       " -0.03317908919929951,\n",
       " -0.07631503611836929,\n",
       " -0.07426986784808579,\n",
       " -0.04053239241127157,\n",
       " -0.049378076848408475,\n",
       " -0.10629084209404886,\n",
       " -0.11495258549083304,\n",
       " -0.0663182987038447]"
      ]
     },
     "metadata": {},
     "output_type": "display_data"
    }
   ],
   "source": [
    "#ACF & PACF\n",
    "display([ACF(i) for i in range(50)],PACF(50))"
   ]
  },
  {
   "cell_type": "code",
   "execution_count": 6,
   "metadata": {},
   "outputs": [
    {
     "data": {
      "image/png": "[encoded data removed]",
      "text/plain": [
       "<Figure size 432x288 with 1 Axes>"
      ]
     },
     "metadata": {
      "needs_background": "light"
     },
     "output_type": "display_data"
    }
   ],
   "source": [
    "#grafia ACF\n",
    "pd.DataFrame([ACF(i) for i in range(50)]).plot();"
   ]
  },
  {
   "cell_type": "code",
   "execution_count": 7,
   "metadata": {},
   "outputs": [
    {
     "data": {
      "image/png": "[encoded data removed]",
      "text/plain": [
       "<Figure size 432x288 with 1 Axes>"
      ]
     },
     "metadata": {
      "needs_background": "light"
     },
     "output_type": "display_data"
    }
   ],
   "source": [
    "#Grafica PACF\n",
    "pd.DataFrame(PACF(50)).plot();"
   ]
  },
  {
   "cell_type": "markdown",
   "metadata": {},
   "source": [
    "### 6.3"
   ]
  },
  {
   "cell_type": "code",
   "execution_count": 8,
   "metadata": {},
   "outputs": [
    {
     "name": "stderr",
     "output_type": "stream",
     "text": [
      "C:\\Users\\leona\\AppData\\Local\\Continuum\\anaconda3\\lib\\site-packages\\statsmodels\\compat\\pandas.py:49: FutureWarning: The Panel class is removed from pandas. Accessing it from the top-level namespace will also be removed in the next version\n",
      "  data_klasses = (pandas.Series, pandas.DataFrame, pandas.Panel)\n"
     ]
    }
   ],
   "source": [
    "import statsmodels.api as sm\n",
    "from scipy import stats\n",
    "from statsmodels.tsa.arima_model import ARIMA\n",
    "from statsmodels.graphics.api import qqplot\n",
    "from statsmodels.tsa.arima_process import arma_generate_sample\n"
   ]
  },
  {
   "cell_type": "code",
   "execution_count": 9,
   "metadata": {},
   "outputs": [],
   "source": [
    "def ar1(numSamples,phi=0.7):\n",
    "    normales=np.random.randn(numSamples)\n",
    "    ar=np.zeros(len(normales))\n",
    "    ar[0]=0\n",
    "    for i in range(len(normales)-1):\n",
    "        ar[i+1]=phi*ar[i]+normales[i] #este es el ruido blanco, v.a's normales\n",
    "    return ar\n",
    "def ma(numSamples,phi=0.7):\n",
    "    normales=np.random.randn(numSamples)\n",
    "    MA=np.zeros(len(normales))\n",
    "    MA[0]=0\n",
    "    for i in range(len(normales)-1):\n",
    "        MA[i+1]=phi*normales[i]+normales[i+1] #este es el ruido blanco, v.a's normales\n",
    "    return MA\n",
    "model = sm.OLS(PIB_EUA.index,PIB_EUA.GDP).fit()\n",
    "resid=model.resid\n"
   ]
  },
  {
   "cell_type": "code",
   "execution_count": 10,
   "metadata": {},
   "outputs": [
    {
     "data": {
      "image/png": "[encoded data removed]",
      "text/plain": [
       "<Figure size 432x288 with 1 Axes>"
      ]
     },
     "metadata": {
      "needs_background": "light"
     },
     "output_type": "display_data"
    },
    {
     "data": {
      "image/png": "[encoded data removed]",
      "text/plain": [
       "<Figure size 432x288 with 1 Axes>"
      ]
     },
     "metadata": {
      "needs_background": "light"
     },
     "output_type": "display_data"
    }
   ],
   "source": [
    "b=model.params[0]\n",
    "X=[x*b+i for x,i in zip(PIB_EUA.GDP,ma(len(PIB_EUA)))]\n",
    "Y=[x*b+i for x,i in zip(PIB_EUA.GDP,ar1(len(PIB_EUA)))]\n",
    "pd.DataFrame(X).plot();\n",
    "pd.DataFrame(Y).plot();"
   ]
  },
  {
   "cell_type": "code",
   "execution_count": 11,
   "metadata": {},
   "outputs": [
    {
     "data": {
      "text/plain": [
       "([1,\n",
       "  0.9677810851105767,\n",
       "  -0.02123768862668782,\n",
       "  -0.02770958201668328,\n",
       "  0.0035534599377233353,\n",
       "  -0.014609887351914213,\n",
       "  -0.01549640440016749,\n",
       "  0.0037299834855429965,\n",
       "  0.004389865139584728,\n",
       "  -0.030646047506216738,\n",
       "  -0.031218274267505473,\n",
       "  -0.04888878696825783,\n",
       "  -0.04123237344933027,\n",
       "  -0.018419372934228136,\n",
       "  -0.017664697861346532,\n",
       "  -0.019176658458794214,\n",
       "  0.00830348130354924,\n",
       "  0.012818859374038111,\n",
       "  -0.00901740848466248,\n",
       "  -0.01848078516839884,\n",
       "  0.0035217107096971513,\n",
       "  -0.036358734330777825,\n",
       "  -0.020152571477870956,\n",
       "  -0.017367292715486853,\n",
       "  0.008463927974528097,\n",
       "  -0.01983767007499138,\n",
       "  -0.017654839826211955,\n",
       "  -0.03864415044808973,\n",
       "  -0.04699278514588607,\n",
       "  -0.054734428305009804,\n",
       "  -0.04187937222749906,\n",
       "  -0.033090372602757434,\n",
       "  -0.0048018443734882815,\n",
       "  0.002287815049601804,\n",
       "  -0.01909138473884077,\n",
       "  -0.013576421938070677,\n",
       "  -0.0387441191284532,\n",
       "  -0.0860239280255959,\n",
       "  -0.05081105462022549,\n",
       "  -0.06349098803745663,\n",
       "  -0.008459352082956268,\n",
       "  -0.04315634072414607,\n",
       "  -0.08023724583688464,\n",
       "  -0.03317908919929951,\n",
       "  -0.07631503611836929,\n",
       "  -0.07426986784808579,\n",
       "  -0.04053239241127157,\n",
       "  -0.049378076848408475,\n",
       "  -0.10629084209404886,\n",
       "  -0.11495258549083304,\n",
       "  -0.0663182987038447,\n",
       "  -0.14086730975599543,\n",
       "  -0.12142981629542919,\n",
       "  -0.10816727788212478,\n",
       "  -0.1944060007183175,\n",
       "  -0.21930318956714118,\n",
       "  -0.32710051308085203,\n",
       "  -0.41924907198078126,\n",
       "  -0.6589290030517827],\n",
       " [1,\n",
       "  0.9677810851105767,\n",
       "  -0.02123768862668782,\n",
       "  -0.02770958201668328,\n",
       "  0.0035534599377233353,\n",
       "  -0.014609887351914213,\n",
       "  -0.01549640440016749,\n",
       "  0.0037299834855429965,\n",
       "  0.004389865139584728,\n",
       "  -0.030646047506216738,\n",
       "  -0.031218274267505473,\n",
       "  -0.04888878696825783,\n",
       "  -0.04123237344933027,\n",
       "  -0.018419372934228136,\n",
       "  -0.017664697861346532,\n",
       "  -0.019176658458794214,\n",
       "  0.00830348130354924,\n",
       "  0.012818859374038111,\n",
       "  -0.00901740848466248,\n",
       "  -0.01848078516839884,\n",
       "  0.0035217107096971513,\n",
       "  -0.036358734330777825,\n",
       "  -0.020152571477870956,\n",
       "  -0.017367292715486853,\n",
       "  0.008463927974528097,\n",
       "  -0.01983767007499138,\n",
       "  -0.017654839826211955,\n",
       "  -0.03864415044808973,\n",
       "  -0.04699278514588607,\n",
       "  -0.054734428305009804,\n",
       "  -0.04187937222749906,\n",
       "  -0.033090372602757434,\n",
       "  -0.0048018443734882815,\n",
       "  0.002287815049601804,\n",
       "  -0.01909138473884077,\n",
       "  -0.013576421938070677,\n",
       "  -0.0387441191284532,\n",
       "  -0.0860239280255959,\n",
       "  -0.05081105462022549,\n",
       "  -0.06349098803745663,\n",
       "  -0.008459352082956268,\n",
       "  -0.04315634072414607,\n",
       "  -0.08023724583688464,\n",
       "  -0.03317908919929951,\n",
       "  -0.07631503611836929,\n",
       "  -0.07426986784808579,\n",
       "  -0.04053239241127157,\n",
       "  -0.049378076848408475,\n",
       "  -0.10629084209404886,\n",
       "  -0.11495258549083304,\n",
       "  -0.0663182987038447,\n",
       "  -0.14086730975599543,\n",
       "  -0.12142981629542919,\n",
       "  -0.10816727788212478,\n",
       "  -0.1944060007183175,\n",
       "  -0.21930318956714118,\n",
       "  -0.32710051308085203,\n",
       "  -0.41924907198078126,\n",
       "  -0.6589290030517827])"
      ]
     },
     "execution_count": 11,
     "metadata": {},
     "output_type": "execute_result"
    }
   ],
   "source": [
    "PACF(58,X),PACF(58,Y)"
   ]
  },
  {
   "cell_type": "code",
   "execution_count": 12,
   "metadata": {},
   "outputs": [
    {
     "data": {
      "image/png": "[encoded data removed]",
      "text/plain": [
       "<Figure size 432x288 with 1 Axes>"
      ]
     },
     "metadata": {
      "needs_background": "light"
     },
     "output_type": "display_data"
    }
   ],
   "source": [
    "pd.DataFrame(PACF(54,X)).plot(); #Es una ACF(54)"
   ]
  },
  {
   "cell_type": "code",
   "execution_count": 13,
   "metadata": {},
   "outputs": [
    {
     "name": "stdout",
     "output_type": "stream",
     "text": [
      "                            OLS Regression Results                            \n",
      "==============================================================================\n",
      "Dep. Variable:                      y   R-squared:                       0.966\n",
      "Model:                            OLS   Adj. R-squared:                  0.966\n",
      "Method:                 Least Squares   F-statistic:                     2551.\n",
      "Date:                Fri, 29 Apr 2022   Prob (F-statistic):           7.83e-68\n",
      "Time:                        21:57:56   Log-Likelihood:                -335.13\n",
      "No. Observations:                  91   AIC:                             672.3\n",
      "Df Residuals:                      90   BIC:                             674.8\n",
      "Df Model:                           1                                         \n",
      "Covariance Type:            nonrobust                                         \n",
      "==============================================================================\n",
      "                 coef    std err          t      P>|t|      [0.025      0.975]\n",
      "------------------------------------------------------------------------------\n",
      "GDP            0.0924      0.002     50.505      0.000       0.089       0.096\n",
      "==============================================================================\n",
      "Omnibus:                       17.742   Durbin-Watson:                   0.005\n",
      "Prob(Omnibus):                  0.000   Jarque-Bera (JB):                8.235\n",
      "Skew:                          -0.533   Prob(JB):                       0.0163\n",
      "Kurtosis:                       1.981   Cond. No.                         1.00\n",
      "==============================================================================\n",
      "\n",
      "Warnings:\n",
      "[1] Standard Errors assume that the covariance matrix of the errors is correctly specified.\n"
     ]
    }
   ],
   "source": [
    "print(model.summary())\n",
    "#con esto vemos que es un buen modelo, se ajusta más del 96% de los datos"
   ]
  },
  {
   "cell_type": "code",
   "execution_count": 14,
   "metadata": {},
   "outputs": [
    {
     "name": "stdout",
     "output_type": "stream",
     "text": [
      "                            OLS Regression Results                            \n",
      "==============================================================================\n",
      "Dep. Variable:                      y   R-squared:                       0.966\n",
      "Model:                            OLS   Adj. R-squared:                  0.966\n",
      "Method:                 Least Squares   F-statistic:                     2589.\n",
      "Date:                Fri, 29 Apr 2022   Prob (F-statistic):           4.09e-68\n",
      "Time:                        21:57:56   Log-Likelihood:                -334.47\n",
      "No. Observations:                  91   AIC:                             670.9\n",
      "Df Residuals:                      90   BIC:                             673.4\n",
      "Df Model:                           1                                         \n",
      "Covariance Type:            nonrobust                                         \n",
      "==============================================================================\n",
      "                 coef    std err          t      P>|t|      [0.025      0.975]\n",
      "------------------------------------------------------------------------------\n",
      "x1             0.9925      0.020     50.884      0.000       0.954       1.031\n",
      "==============================================================================\n",
      "Omnibus:                       16.435   Durbin-Watson:                   0.021\n",
      "Prob(Omnibus):                  0.000   Jarque-Bera (JB):                7.328\n",
      "Skew:                          -0.478   Prob(JB):                       0.0256\n",
      "Kurtosis:                       1.991   Cond. No.                         1.00\n",
      "==============================================================================\n",
      "\n",
      "Warnings:\n",
      "[1] Standard Errors assume that the covariance matrix of the errors is correctly specified.\n",
      "                            OLS Regression Results                            \n",
      "==============================================================================\n",
      "Dep. Variable:                      y   R-squared:                       0.965\n",
      "Model:                            OLS   Adj. R-squared:                  0.964\n",
      "Method:                 Least Squares   F-statistic:                     2451.\n",
      "Date:                Fri, 29 Apr 2022   Prob (F-statistic):           4.41e-67\n",
      "Time:                        21:57:56   Log-Likelihood:                -336.87\n",
      "No. Observations:                  91   AIC:                             675.7\n",
      "Df Residuals:                      90   BIC:                             678.3\n",
      "Df Model:                           1                                         \n",
      "Covariance Type:            nonrobust                                         \n",
      "==============================================================================\n",
      "                 coef    std err          t      P>|t|      [0.025      0.975]\n",
      "------------------------------------------------------------------------------\n",
      "x1             0.9896      0.020     49.511      0.000       0.950       1.029\n",
      "==============================================================================\n",
      "Omnibus:                       11.431   Durbin-Watson:                   0.016\n",
      "Prob(Omnibus):                  0.003   Jarque-Bera (JB):                7.897\n",
      "Skew:                          -0.587   Prob(JB):                       0.0193\n",
      "Kurtosis:                       2.162   Cond. No.                         1.00\n",
      "==============================================================================\n",
      "\n",
      "Warnings:\n",
      "[1] Standard Errors assume that the covariance matrix of the errors is correctly specified.\n"
     ]
    }
   ],
   "source": [
    "modelAr = sm.OLS(np.arange(len(X)),X).fit()\n",
    "print(modelAr.summary())\n",
    "modelMA = sm.OLS(np.arange(len(Y)),Y).fit()\n",
    "print(modelMA.summary())\n",
    "residAr,residMA=modelAr.resid,modelMA.resid"
   ]
  },
  {
   "cell_type": "markdown",
   "metadata": {},
   "source": [
    "### 6.4\n",
    "Apoyandonos del sumario de los modelos, podemos ver que ambos modelos tienen un buen nivel de ajuste, tanto el principal como el del modelo MA(1) se ajuntan al 96%, con el AR(1) se ajusta ak 96.7%\n",
    " Son buenos modelos y logran quitar un poco la estacionalidad, ademas es casi nula la probabilidad del  error tipo dos en ambos"
   ]
  },
  {
   "cell_type": "code",
   "execution_count": 15,
   "metadata": {},
   "outputs": [],
   "source": [
    "import statsmodels.api as sm\n",
    "from scipy import stats\n",
    "from statsmodels.tsa.arima_model import ARIMA\n",
    "from statsmodels.graphics.api import qqplot\n",
    "from statsmodels.tsa.arima_process import arma_generate_sample"
   ]
  },
  {
   "cell_type": "code",
   "execution_count": 16,
   "metadata": {},
   "outputs": [
    {
     "data": {
      "image/png": "[encoded data removed]",
      "text/plain": [
       "<Figure size 432x288 with 1 Axes>"
      ]
     },
     "execution_count": 16,
     "metadata": {},
     "output_type": "execute_result"
    },
    {
     "data": {
      "image/png": "[encoded data removed]",
      "text/plain": [
       "<Figure size 432x288 with 1 Axes>"
      ]
     },
     "metadata": {
      "needs_background": "light"
     },
     "output_type": "display_data"
    }
   ],
   "source": [
    "#graficas de qqplot residuales completos \n",
    "qqplot(resid)"
   ]
  },
  {
   "cell_type": "code",
   "execution_count": 17,
   "metadata": {},
   "outputs": [
    {
     "data": {
      "image/png": "[encoded data removed]",
      "text/plain": [
       "<Figure size 432x288 with 1 Axes>"
      ]
     },
     "execution_count": 17,
     "metadata": {},
     "output_type": "execute_result"
    },
    {
     "data": {
      "image/png": "[encoded data removed]",
      "text/plain": [
       "<Figure size 432x288 with 1 Axes>"
      ]
     },
     "metadata": {
      "needs_background": "light"
     },
     "output_type": "display_data"
    }
   ],
   "source": [
    "qqplot(residAr)"
   ]
  },
  {
   "cell_type": "code",
   "execution_count": 18,
   "metadata": {},
   "outputs": [
    {
     "data": {
      "image/png": "[encoded data removed]",
      "text/plain": [
       "<Figure size 432x288 with 1 Axes>"
      ]
     },
     "execution_count": 18,
     "metadata": {},
     "output_type": "execute_result"
    },
    {
     "data": {
      "image/png": "[encoded data removed]",
      "text/plain": [
       "<Figure size 432x288 with 1 Axes>"
      ]
     },
     "metadata": {
      "needs_background": "light"
     },
     "output_type": "display_data"
    }
   ],
   "source": [
    "qqplot(residMA)"
   ]
  },
  {
   "cell_type": "markdown",
   "metadata": {},
   "source": [
    "Vemos que los residuales tiene una tendencia normal,con colas del lado izquierdo"
   ]
  },
  {
   "cell_type": "markdown",
   "metadata": {},
   "source": [
    "# 6.6"
   ]
  },
  {
   "cell_type": "markdown",
   "metadata": {},
   "source": [
    "import matplotlib.pyplot as plt\n",
    "from statsmodels.tsa.statespace.sarimax import SARIMAX\n",
    "import warnings\n",
    "warnings.filterwarnings(\"ignore\")"
   ]
  },
  {
   "cell_type": "code",
   "execution_count": 36,
   "metadata": {},
   "outputs": [
    {
     "data": {
      "text/plain": [
       "91    1010.700942\n",
       "92    1025.441517\n",
       "93    1034.175771\n",
       "94    1045.911039\n",
       "95    1057.239004\n",
       "Name: Forecast, dtype: float64"
      ]
     },
     "metadata": {},
     "output_type": "display_data"
    },
    {
     "data": {
      "image/png": "[encoded data removed]",
      "text/plain": [
       "<Figure size 720x504 with 1 Axes>"
      ]
     },
     "metadata": {
      "needs_background": "light"
     },
     "output_type": "display_data"
    }
   ],
   "source": [
    "model = SARIMAX(PIB_EUA['GDP'], \n",
    "                        order = (0, 1, 1), \n",
    "                        seasonal_order =(2, 1, 1, 12))\n",
    "result = model.fit()\n",
    "  \n",
    "forecast = result.predict(start = len(PIB_EUA), \n",
    "                          end = (len(PIB_EUA)-1) + 5, \n",
    "                          typ = 'GDP').rename('Forecast')\n",
    "  \n",
    "PIB_EUA['GDP'].plot(figsize = (10, 7), legend = True)\n",
    "forecast.plot(legend = True);\n",
    "display(forecast)"
   ]
  },
  {
   "cell_type": "markdown",
   "metadata": {},
   "source": [
    "Se ve un buen pronostico, se puede ver que si va a favor de la tendencia de la serie"
   ]
  }
 ],
 "metadata": {
  "kernelspec": {
   "display_name": "Python 3",
   "language": "python",
   "name": "python3"
  },
  "language_info": {
   "codemirror_mode": {
    "name": "ipython",
    "version": 3
   },
   "file_extension": ".py",
   "mimetype": "text/x-python",
   "name": "python",
   "nbconvert_exporter": "python",
   "pygments_lexer": "ipython3",
   "version": "3.7.0"
  }
 },
 "nbformat": 4,
 "nbformat_minor": 2
}
